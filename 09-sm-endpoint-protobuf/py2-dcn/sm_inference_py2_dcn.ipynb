{
 "cells": [
  {
   "cell_type": "code",
   "execution_count": null,
   "metadata": {},
   "outputs": [],
   "source": [
    "%%sh\n",
    "\n",
    "docker_name=`docker ps --format '{{.Names}}'`\n",
    "#echo $docker_name\n",
    "docker kill $docker_name"
   ]
  },
  {
   "cell_type": "code",
   "execution_count": null,
   "metadata": {},
   "outputs": [],
   "source": [
    "!cp ../../11-manual-model-load/dcn/model/rfcn_dcn_coco-0000.params dcn/model/"
   ]
  },
  {
   "cell_type": "code",
   "execution_count": null,
   "metadata": {},
   "outputs": [],
   "source": [
    "#!sudo yum install -y tree\n",
    "!tree dcn/model/"
   ]
  },
  {
   "cell_type": "code",
   "execution_count": null,
   "metadata": {},
   "outputs": [],
   "source": [
    "#!pygmentize inference.py"
   ]
  },
  {
   "cell_type": "code",
   "execution_count": null,
   "metadata": {},
   "outputs": [],
   "source": [
    "!(cd dcn/model/ && tar -czvf /tmp/model-rfcn.tar.gz *)"
   ]
  },
  {
   "cell_type": "code",
   "execution_count": null,
   "metadata": {},
   "outputs": [],
   "source": [
    "!aws s3 cp /tmp/model-rfcn.tar.gz s3://ar54/super_models/\n",
    "!aws s3 ls s3://ar54/super_models/   "
   ]
  },
  {
   "cell_type": "code",
   "execution_count": null,
   "metadata": {},
   "outputs": [],
   "source": [
    "!aws s3 ls s3://ar54/super_models/model-rfcn.tar.gz"
   ]
  },
  {
   "cell_type": "code",
   "execution_count": null,
   "metadata": {},
   "outputs": [],
   "source": [
    "%%sh\n",
    "\n",
    "# The name of our algorithm\n",
    "algorithm_name=chazarey-mxnet-serving-160-gpu-py2\n",
    "\n",
    "account=$(aws sts get-caller-identity --query Account --output text)\n",
    "\n",
    "# Get the region defined in the current configuration (default to us-west-2 if none defined)\n",
    "region=$(aws configure get region)\n",
    "#region=${region:-us-west-2}\n",
    "\n",
    "fullname=\"${account}.dkr.ecr.${region}.amazonaws.com/${algorithm_name}:latest\"\n",
    "\n",
    "# If the repository doesn't exist in ECR, create it.\n",
    "aws ecr describe-repositories --repository-names \"${algorithm_name}\" > /dev/null 2>&1\n",
    "\n",
    "if [ $? -ne 0 ]\n",
    "then\n",
    "    aws ecr create-repository --repository-name \"${algorithm_name}\" > /dev/null\n",
    "fi\n",
    "\n",
    "# Get the login command from ECR and execute it directly\n",
    "$(aws ecr get-login --region ${region} --no-include-email)\n",
    "\n",
    "# Build the docker image locally with the image name and then push it to ECR\n",
    "# with the full name.\n",
    "\n",
    "#docker build -t chazarey-mxnet-serving:1.6.0-gpu-py3 -f docker/1.6.0/py3/Dockerfile.gpu .\n",
    "\n",
    "docker build -t ${algorithm_name} -f Dockerfile.gpu .\n",
    "\n",
    "docker tag ${algorithm_name} ${fullname}\n",
    "\n",
    "docker push ${fullname}"
   ]
  },
  {
   "cell_type": "code",
   "execution_count": null,
   "metadata": {},
   "outputs": [],
   "source": [
    "%%time\n",
    "\n",
    "import sagemaker\n",
    "\n",
    "role = sagemaker.session.get_execution_role()\n",
    "\n",
    "from sagemaker.mxnet import MXNetModel\n",
    "\n",
    "model_data=\"s3://ar54/super_models/model-rfcn.tar.gz\"\n",
    "\n",
    "model = MXNetModel(\n",
    "    model_data=model_data,\n",
    "    role=role,\n",
    "    image=\"308412838853.dkr.ecr.us-east-2.amazonaws.com/chazarey-mxnet-serving-160-gpu-py2:latest\",\n",
    "    entry_point=\"inference.py\",\n",
    "    py_version='py2',\n",
    "    framework_version='1.6.0',\n",
    "    enable_cloudwatch_metrics=True\n",
    ")\n",
    "\n",
    "#predictor = model.deploy(instance_type=\"local_gpu\", initial_instance_count=1)\n",
    "#predictor = model.deploy(instance_type=\"local\", initial_instance_count=1)\n",
    "predictor = model.deploy(instance_type='ml.g4dn.xlarge', initial_instance_count=1)"
   ]
  },
  {
   "cell_type": "code",
   "execution_count": null,
   "metadata": {},
   "outputs": [],
   "source": [
    "!wget -O /tmp/test.jpg http://www.vision.caltech.edu/Image_Datasets/Caltech256/images/008.bathtub/008_0007.jpg\n",
    "file_name = '/tmp/test.jpg'\n",
    "# test image\n",
    "from IPython.display import Image\n",
    "Image(file_name)  "
   ]
  },
  {
   "cell_type": "code",
   "execution_count": null,
   "metadata": {},
   "outputs": [],
   "source": [
    "import io\n",
    "import numpy as np\n",
    "import json\n",
    "from sagemaker.predictor import StringDeserializer\n",
    "import time\n",
    "import cv2\n",
    "import PIL\n",
    "from PIL import Image\n",
    "\n",
    "def numpy_bytes_serializer(data):\n",
    "    f = io.BytesIO()\n",
    "    np.save(f, data)\n",
    "    f.seek(0)\n",
    "    return f.read()\n",
    "\n",
    "predictor.serializer = None\n",
    "predictor.deserializer = StringDeserializer()\n",
    "predictor.accept = None\n",
    "predictor.content_type = None\n",
    "\n",
    "with open(file_name, 'rb') as f:\n",
    "    payload = f.read()\n",
    "    #payload = bytearray(payload)\n",
    "    \n",
    "im = cv2.imread(file_name, cv2.IMREAD_COLOR | cv2.IMREAD_IGNORE_ORIENTATION)    \n",
    "is_success, im_buf_arr = cv2.imencode(\".jpg\", im)\n",
    "bytes_im = im_buf_arr.tobytes()\n",
    "\n",
    "for i in range(0, 2):\n",
    "    response = predictor.predict(bytes_im)            \n",
    "    print(response)"
   ]
  },
  {
   "cell_type": "code",
   "execution_count": null,
   "metadata": {},
   "outputs": [],
   "source": [
    "#!sudo pip uninstall protobuf\n",
    "#!sudo pip install -U protobuf\n",
    "#!pip install -U protobuf"
   ]
  },
  {
   "cell_type": "code",
   "execution_count": null,
   "metadata": {},
   "outputs": [],
   "source": [
    "import io\n",
    "import numpy as np\n",
    "import json\n",
    "from sagemaker.predictor import StringDeserializer\n",
    "import time\n",
    "import image_pb2 as impb\n",
    "\n",
    "with open('/tmp/test.jpg', 'rb') as f:\n",
    "    payload = f.read()\n",
    "    #payload = bytearray(payload)\n",
    "\n",
    "image_packet = impb.PBImage()\n",
    "image_packet.image_data = payload\n",
    "\n",
    "def numpy_bytes_serializer(data):\n",
    "    f = io.BytesIO()\n",
    "    np.save(f, data)\n",
    "    f.seek(0)\n",
    "    return f.read()\n",
    "\n",
    "predictor.serializer = None\n",
    "predictor.deserializer = StringDeserializer()\n",
    "predictor.accept = None\n",
    "predictor.content_type = 'application/octet-stream'\n",
    "\n",
    "for i in range(0, 2):    \n",
    "    response = predictor.predict(image_packet.SerializeToString())            \n",
    "    print(response)"
   ]
  },
  {
   "cell_type": "code",
   "execution_count": null,
   "metadata": {},
   "outputs": [],
   "source": [
    "!pwd"
   ]
  },
  {
   "cell_type": "code",
   "execution_count": null,
   "metadata": {},
   "outputs": [],
   "source": [
    "!diff /home/ec2-user/SageMaker/src/sagemaker-mxnet-serving-container/docker/1.6.0/py2/Dockerfile.gpu ./Dockerfile.gpu"
   ]
  },
  {
   "cell_type": "code",
   "execution_count": null,
   "metadata": {},
   "outputs": [],
   "source": [
    "!ls /home/ec2-user/SageMaker/GitHub/SageMaker-Inference-Advanced/n-labs/11-manual-model-load/sv.jpg"
   ]
  },
  {
   "cell_type": "code",
   "execution_count": null,
   "metadata": {},
   "outputs": [],
   "source": [
    "!cp /home/ec2-user/SageMaker/GitHub/SageMaker-Inference-Advanced/n-labs/11-manual-model-load/sv.jpg . \n"
   ]
  },
  {
   "cell_type": "code",
   "execution_count": null,
   "metadata": {},
   "outputs": [],
   "source": [
    "from matplotlib.pyplot import imshow\n",
    "import os\n",
    "import io\n",
    "import subprocess\n",
    "import PIL\n",
    "from PIL import Image\n",
    "import requests\n",
    "import random\n",
    "import io\n",
    "import numpy as np\n",
    "import json\n",
    "from sagemaker.predictor import StringDeserializer\n",
    "import time\n",
    "import image_pb2 as impb\n",
    "import ast\n",
    "from IPython.display import clear_output\n",
    "\n",
    "from sagemaker.predictor import RealTimePredictor, json_deserializer\n",
    "\n",
    "urls = []\n",
    "\n",
    "urls.append('http://www.vision.caltech.edu/Image_Datasets/Caltech256/images/008.bathtub/008_0007.jpg')\n",
    "urls.append('http://www.vision.caltech.edu/Image_Datasets/Caltech256/images/008.bathtub/008_0001.jpg')\n",
    "urls.append('http://www.vision.caltech.edu/Image_Datasets/Caltech256/images/008.bathtub/008_0005.jpg')\n",
    "urls.append('http://www.vision.caltech.edu/Image_Datasets/Caltech256/images/008.bathtub/008_0010.jpg')\n",
    "urls.append('http://www.vision.caltech.edu/Image_Datasets/Caltech256/images/038.chimp/038_0012.jpg')\n",
    "urls.append('http://www.vision.caltech.edu/Image_Datasets/Caltech256/images/042.coffin/042_0002.jpg')\n",
    "urls.append('http://www.vision.caltech.edu/Image_Datasets/Caltech256/images/048.conch/048_0008.jpg')\n",
    "urls.append('http://www.vision.caltech.edu/Image_Datasets/Caltech256/images/049.cormorant/049_0002.jpg')\n",
    "urls.append('http://www.vision.caltech.edu/Image_Datasets/Caltech256/images/078.fried-egg/078_0003.jpg')\n",
    "urls.append('http://www.vision.caltech.edu/Image_Datasets/Caltech256/images/094.guitar-pick/094_0005.jpg')\n",
    "urls.append('http://www.vision.caltech.edu/Image_Datasets/Caltech256/images/095.hamburger/095_0003.jpg')\n",
    "\n",
    "\n",
    "impath = '/home/ec2-user/SageMaker/dataset/256_ObjectCategoriesimage'\n",
    "files = os.listdir(impath)\n",
    "\n",
    "#%matplotlib inline\n",
    "\n",
    "while True:\n",
    "    index = random.randrange(0, len(files))\n",
    "    #print(files[index])\n",
    "    file_name = impath + '/' + files[index]\n",
    "    \n",
    "    try:\n",
    "        with open(file_name, 'rb') as f:\n",
    "            payload = f.read()\n",
    "            #payload = bytearray(payload)\n",
    "    except:\n",
    "        pass\n",
    "        \n",
    "    image_packet = impb.PBImage()\n",
    "    image_packet.image_data = payload\n",
    "\n",
    "    predictor.serializer = None\n",
    "    predictor.deserializer = StringDeserializer()\n",
    "    predictor.accept = None\n",
    "    predictor.content_type = 'application/octet-stream'\n",
    "\n",
    "    %time response = predictor.predict(image_packet.SerializeToString())            \n",
    "    \n",
    "    print('\\n'+response+'\\n')\n",
    "    clear_output(wait=True)\n",
    "    \n"
   ]
  },
  {
   "cell_type": "code",
   "execution_count": null,
   "metadata": {},
   "outputs": [],
   "source": []
  }
 ],
 "metadata": {
  "kernelspec": {
   "display_name": "conda_mxnet_p36",
   "language": "python",
   "name": "conda_mxnet_p36"
  },
  "language_info": {
   "codemirror_mode": {
    "name": "ipython",
    "version": 3
   },
   "file_extension": ".py",
   "mimetype": "text/x-python",
   "name": "python",
   "nbconvert_exporter": "python",
   "pygments_lexer": "ipython3",
   "version": "3.6.10"
  }
 },
 "nbformat": 4,
 "nbformat_minor": 4
}
